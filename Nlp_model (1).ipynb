{
 "cells": [
  {
   "cell_type": "markdown",
   "metadata": {},
   "source": [
    "# Importing libraries"
   ]
  },
  {
   "cell_type": "code",
   "execution_count": 15,
   "metadata": {},
   "outputs": [],
   "source": [
    "import pandas as pd\n",
    "import random\n",
    "import numpy as np\n",
    "from tensorflow.keras.preprocessing.text import Tokenizer\n",
    "from tensorflow.keras.preprocessing.sequence import pad_sequences\n",
    "from tensorflow.keras.utils import to_categorical\n",
    "from tensorflow.keras import regularizers\n",
    "import matplotlib.pyplot as plt\n",
    "from itertools import combinations \n",
    "from sklearn.preprocessing import LabelEncoder\n",
    "from sklearn.preprocessing import OneHotEncoder\n",
    "import re\n",
    "from sklearn.model_selection import train_test_split\n",
    "from gensim.models import Word2Vec\n",
    "import tensorflow as tf\n",
    "import csv\n",
    "from keras.layers import Dense, Dropout, LSTM, Bidirectional\n",
    "import matplotlib.pyplot as plt"
   ]
  },
  {
   "cell_type": "markdown",
   "metadata": {},
   "source": [
    "# Data Exploration"
   ]
  },
  {
   "cell_type": "code",
   "execution_count": 3,
   "metadata": {},
   "outputs": [],
   "source": [
    "Data = pd.read_csv(\"/home/ege/Desktop/kaggle/NLP/archive/training.1600000.processed.noemoticon.csv\" , encoding='latin-1')"
   ]
  },
  {
   "cell_type": "code",
   "execution_count": 4,
   "metadata": {},
   "outputs": [
    {
     "data": {
      "text/plain": [
       "(1599999, 6)"
      ]
     },
     "execution_count": 4,
     "metadata": {},
     "output_type": "execute_result"
    }
   ],
   "source": [
    "Data.shape"
   ]
  },
  {
   "cell_type": "code",
   "execution_count": 5,
   "metadata": {},
   "outputs": [],
   "source": [
    "Train_Data = Data.iloc[5:-5]\n",
    "Val_part1 = Data.iloc[:5]\n",
    "Val_part2 = Data.iloc[-5:]\n",
    "Val_data = pd.concat([Val_part1 , Val_part2] , axis = 0)"
   ]
  },
  {
   "cell_type": "markdown",
   "metadata": {},
   "source": [
    "This dataset is huge. We will split this data set. 900000 tweets are enough for this project.\n",
    "\n"
   ]
  },
  {
   "cell_type": "code",
   "execution_count": 6,
   "metadata": {},
   "outputs": [],
   "source": [
    "Train_Data = Data.iloc[np.random.choice(np.arange(len(Data)), 900000, False)]"
   ]
  },
  {
   "cell_type": "code",
   "execution_count": 9,
   "metadata": {},
   "outputs": [
    {
     "data": {
      "text/html": [
       "<div>\n",
       "<style scoped>\n",
       "    .dataframe tbody tr th:only-of-type {\n",
       "        vertical-align: middle;\n",
       "    }\n",
       "\n",
       "    .dataframe tbody tr th {\n",
       "        vertical-align: top;\n",
       "    }\n",
       "\n",
       "    .dataframe thead th {\n",
       "        text-align: right;\n",
       "    }\n",
       "</style>\n",
       "<table border=\"1\" class=\"dataframe\">\n",
       "  <thead>\n",
       "    <tr style=\"text-align: right;\">\n",
       "      <th></th>\n",
       "      <th>sentiment</th>\n",
       "      <th>Id</th>\n",
       "      <th>date</th>\n",
       "      <th>query</th>\n",
       "      <th>username</th>\n",
       "      <th>tweets</th>\n",
       "    </tr>\n",
       "  </thead>\n",
       "  <tbody>\n",
       "    <tr>\n",
       "      <th>1005391</th>\n",
       "      <td>4</td>\n",
       "      <td>1880505941</td>\n",
       "      <td>Fri May 22 01:29:10 PDT 2009</td>\n",
       "      <td>NO_QUERY</td>\n",
       "      <td>phatrisha</td>\n",
       "      <td>?currently playing OL games @ y8.com</td>\n",
       "    </tr>\n",
       "    <tr>\n",
       "      <th>534036</th>\n",
       "      <td>0</td>\n",
       "      <td>2197388970</td>\n",
       "      <td>Tue Jun 16 13:43:13 PDT 2009</td>\n",
       "      <td>NO_QUERY</td>\n",
       "      <td>AwesomeBlossom</td>\n",
       "      <td>had permanent crown put on this morning...what...</td>\n",
       "    </tr>\n",
       "    <tr>\n",
       "      <th>1216996</th>\n",
       "      <td>4</td>\n",
       "      <td>1989693999</td>\n",
       "      <td>Mon Jun 01 02:28:25 PDT 2009</td>\n",
       "      <td>NO_QUERY</td>\n",
       "      <td>melattree</td>\n",
       "      <td>I am powering through work and showing Monday ...</td>\n",
       "    </tr>\n",
       "    <tr>\n",
       "      <th>852619</th>\n",
       "      <td>4</td>\n",
       "      <td>1573004668</td>\n",
       "      <td>Mon Apr 20 23:20:48 PDT 2009</td>\n",
       "      <td>NO_QUERY</td>\n",
       "      <td>JacandJill</td>\n",
       "      <td>Got back from The Cutting Room</td>\n",
       "    </tr>\n",
       "    <tr>\n",
       "      <th>1327435</th>\n",
       "      <td>4</td>\n",
       "      <td>2015386695</td>\n",
       "      <td>Wed Jun 03 04:31:36 PDT 2009</td>\n",
       "      <td>NO_QUERY</td>\n",
       "      <td>BritFan85</td>\n",
       "      <td>I remembrd my gym bag. Thank g0d. I dnt hav 2 ...</td>\n",
       "    </tr>\n",
       "  </tbody>\n",
       "</table>\n",
       "</div>"
      ],
      "text/plain": [
       "         sentiment          Id                          date     query  \\\n",
       "1005391          4  1880505941  Fri May 22 01:29:10 PDT 2009  NO_QUERY   \n",
       "534036           0  2197388970  Tue Jun 16 13:43:13 PDT 2009  NO_QUERY   \n",
       "1216996          4  1989693999  Mon Jun 01 02:28:25 PDT 2009  NO_QUERY   \n",
       "852619           4  1573004668  Mon Apr 20 23:20:48 PDT 2009  NO_QUERY   \n",
       "1327435          4  2015386695  Wed Jun 03 04:31:36 PDT 2009  NO_QUERY   \n",
       "\n",
       "               username                                             tweets  \n",
       "1005391       phatrisha              ?currently playing OL games @ y8.com   \n",
       "534036   AwesomeBlossom  had permanent crown put on this morning...what...  \n",
       "1216996       melattree  I am powering through work and showing Monday ...  \n",
       "852619       JacandJill                    Got back from The Cutting Room   \n",
       "1327435       BritFan85  I remembrd my gym bag. Thank g0d. I dnt hav 2 ...  "
      ]
     },
     "execution_count": 9,
     "metadata": {},
     "output_type": "execute_result"
    }
   ],
   "source": [
    "Train_Data.head()"
   ]
  },
  {
   "cell_type": "markdown",
   "metadata": {},
   "source": [
    "Adding columns names"
   ]
  },
  {
   "cell_type": "code",
   "execution_count": 10,
   "metadata": {},
   "outputs": [],
   "source": [
    "Train_Data.columns = [\"sentiment\", \"Id\", \"date\", \"query\", \"username\", \"tweets\"]"
   ]
  },
  {
   "cell_type": "code",
   "execution_count": 11,
   "metadata": {},
   "outputs": [
    {
     "data": {
      "text/html": [
       "<div>\n",
       "<style scoped>\n",
       "    .dataframe tbody tr th:only-of-type {\n",
       "        vertical-align: middle;\n",
       "    }\n",
       "\n",
       "    .dataframe tbody tr th {\n",
       "        vertical-align: top;\n",
       "    }\n",
       "\n",
       "    .dataframe thead th {\n",
       "        text-align: right;\n",
       "    }\n",
       "</style>\n",
       "<table border=\"1\" class=\"dataframe\">\n",
       "  <thead>\n",
       "    <tr style=\"text-align: right;\">\n",
       "      <th></th>\n",
       "      <th>sentiment</th>\n",
       "      <th>Id</th>\n",
       "      <th>date</th>\n",
       "      <th>query</th>\n",
       "      <th>username</th>\n",
       "      <th>tweets</th>\n",
       "    </tr>\n",
       "  </thead>\n",
       "  <tbody>\n",
       "    <tr>\n",
       "      <th>1005391</th>\n",
       "      <td>4</td>\n",
       "      <td>1880505941</td>\n",
       "      <td>Fri May 22 01:29:10 PDT 2009</td>\n",
       "      <td>NO_QUERY</td>\n",
       "      <td>phatrisha</td>\n",
       "      <td>?currently playing OL games @ y8.com</td>\n",
       "    </tr>\n",
       "    <tr>\n",
       "      <th>534036</th>\n",
       "      <td>0</td>\n",
       "      <td>2197388970</td>\n",
       "      <td>Tue Jun 16 13:43:13 PDT 2009</td>\n",
       "      <td>NO_QUERY</td>\n",
       "      <td>AwesomeBlossom</td>\n",
       "      <td>had permanent crown put on this morning...what...</td>\n",
       "    </tr>\n",
       "    <tr>\n",
       "      <th>1216996</th>\n",
       "      <td>4</td>\n",
       "      <td>1989693999</td>\n",
       "      <td>Mon Jun 01 02:28:25 PDT 2009</td>\n",
       "      <td>NO_QUERY</td>\n",
       "      <td>melattree</td>\n",
       "      <td>I am powering through work and showing Monday ...</td>\n",
       "    </tr>\n",
       "    <tr>\n",
       "      <th>852619</th>\n",
       "      <td>4</td>\n",
       "      <td>1573004668</td>\n",
       "      <td>Mon Apr 20 23:20:48 PDT 2009</td>\n",
       "      <td>NO_QUERY</td>\n",
       "      <td>JacandJill</td>\n",
       "      <td>Got back from The Cutting Room</td>\n",
       "    </tr>\n",
       "    <tr>\n",
       "      <th>1327435</th>\n",
       "      <td>4</td>\n",
       "      <td>2015386695</td>\n",
       "      <td>Wed Jun 03 04:31:36 PDT 2009</td>\n",
       "      <td>NO_QUERY</td>\n",
       "      <td>BritFan85</td>\n",
       "      <td>I remembrd my gym bag. Thank g0d. I dnt hav 2 ...</td>\n",
       "    </tr>\n",
       "  </tbody>\n",
       "</table>\n",
       "</div>"
      ],
      "text/plain": [
       "         sentiment          Id                          date     query  \\\n",
       "1005391          4  1880505941  Fri May 22 01:29:10 PDT 2009  NO_QUERY   \n",
       "534036           0  2197388970  Tue Jun 16 13:43:13 PDT 2009  NO_QUERY   \n",
       "1216996          4  1989693999  Mon Jun 01 02:28:25 PDT 2009  NO_QUERY   \n",
       "852619           4  1573004668  Mon Apr 20 23:20:48 PDT 2009  NO_QUERY   \n",
       "1327435          4  2015386695  Wed Jun 03 04:31:36 PDT 2009  NO_QUERY   \n",
       "\n",
       "               username                                             tweets  \n",
       "1005391       phatrisha              ?currently playing OL games @ y8.com   \n",
       "534036   AwesomeBlossom  had permanent crown put on this morning...what...  \n",
       "1216996       melattree  I am powering through work and showing Monday ...  \n",
       "852619       JacandJill                    Got back from The Cutting Room   \n",
       "1327435       BritFan85  I remembrd my gym bag. Thank g0d. I dnt hav 2 ...  "
      ]
     },
     "execution_count": 11,
     "metadata": {},
     "output_type": "execute_result"
    }
   ],
   "source": [
    "Train_Data.head()"
   ]
  },
  {
   "cell_type": "code",
   "execution_count": 12,
   "metadata": {},
   "outputs": [
    {
     "name": "stderr",
     "output_type": "stream",
     "text": [
      "<ipython-input-12-896fdaaed720>:3: SettingWithCopyWarning: \n",
      "A value is trying to be set on a copy of a slice from a DataFrame.\n",
      "Try using .loc[row_indexer,col_indexer] = value instead\n",
      "\n",
      "See the caveats in the documentation: https://pandas.pydata.org/pandas-docs/stable/user_guide/indexing.html#returning-a-view-versus-a-copy\n",
      "  df_sentiment['sentiment'] = df_sentiment['sentiment'].replace(4,1)\n"
     ]
    }
   ],
   "source": [
    "df_tweets = Train_Data[['tweets']]\n",
    "df_sentiment = Train_Data[['sentiment']]\n",
    "df_sentiment['sentiment'] = df_sentiment['sentiment'].replace(4,1)"
   ]
  },
  {
   "cell_type": "code",
   "execution_count": 13,
   "metadata": {},
   "outputs": [],
   "source": [
    "Val_data.columns = [\"sentiment\", \"Id\", \"date\", \"query\", \"username\", \"tweets\"] \n",
    "Val_data['sentiment'] = Val_data['sentiment'].replace(4 ,1)\n",
    "Val_data_sentiment = Val_data[['tweets']]\n",
    "Val_data_labels = Val_data[['sentiment']]"
   ]
  },
  {
   "cell_type": "code",
   "execution_count": 16,
   "metadata": {},
   "outputs": [
    {
     "data": {
      "image/png": "[encoded data removed]",
      "text/plain": [
       "<Figure size 720x720 with 1 Axes>"
      ]
     },
     "metadata": {},
     "output_type": "display_data"
    }
   ],
   "source": [
    "sentiments = df_sentiment.groupby(['sentiment']).size().reset_index()\n",
    "sentiments.plot(kind='pie' ,y = 0, autopct='%1.1f%%',  title = \" Percentage of Sentiments\",\n",
    "startangle=90, shadow=False, labels=  sentiments['sentiment'], legend = False, fontsize=14, figsize=(10, 10) , colors = 'rg')\n",
    "plt.xlabel(' 0 = negative , 1  =  positive ')\n",
    "plt.show()"
   ]
  },
  {
   "cell_type": "markdown",
   "metadata": {},
   "source": [
    "# Data Preprocessing"
   ]
  },
  {
   "cell_type": "code",
   "execution_count": 59,
   "metadata": {},
   "outputs": [
    {
     "data": {
      "text/html": [
       "<div>\n",
       "<style scoped>\n",
       "    .dataframe tbody tr th:only-of-type {\n",
       "        vertical-align: middle;\n",
       "    }\n",
       "\n",
       "    .dataframe tbody tr th {\n",
       "        vertical-align: top;\n",
       "    }\n",
       "\n",
       "    .dataframe thead th {\n",
       "        text-align: right;\n",
       "    }\n",
       "</style>\n",
       "<table border=\"1\" class=\"dataframe\">\n",
       "  <thead>\n",
       "    <tr style=\"text-align: right;\">\n",
       "      <th></th>\n",
       "      <th>Contraction</th>\n",
       "      <th>Meaning</th>\n",
       "    </tr>\n",
       "  </thead>\n",
       "  <tbody>\n",
       "    <tr>\n",
       "      <th>0</th>\n",
       "      <td>'aight</td>\n",
       "      <td>alright</td>\n",
       "    </tr>\n",
       "    <tr>\n",
       "      <th>1</th>\n",
       "      <td>ain't</td>\n",
       "      <td>is not</td>\n",
       "    </tr>\n",
       "    <tr>\n",
       "      <th>2</th>\n",
       "      <td>amn't</td>\n",
       "      <td>am not</td>\n",
       "    </tr>\n",
       "    <tr>\n",
       "      <th>3</th>\n",
       "      <td>aren't</td>\n",
       "      <td>are not</td>\n",
       "    </tr>\n",
       "    <tr>\n",
       "      <th>4</th>\n",
       "      <td>can't</td>\n",
       "      <td>cannot</td>\n",
       "    </tr>\n",
       "  </tbody>\n",
       "</table>\n",
       "</div>"
      ],
      "text/plain": [
       "  Contraction  Meaning\n",
       "0      'aight  alright\n",
       "1       ain't   is not\n",
       "2       amn't   am not\n",
       "3      aren't  are not\n",
       "4       can't   cannot"
      ]
     },
     "execution_count": 59,
     "metadata": {},
     "output_type": "execute_result"
    }
   ],
   "source": [
    "contractions = pd.read_csv(\"/home/ege/Desktop/kaggle/NLP/archive/contractions.csv\")\n",
    "contractions.head()"
   ]
  },
  {
   "cell_type": "code",
   "execution_count": 60,
   "metadata": {},
   "outputs": [],
   "source": [
    "def lower(data):\n",
    "    columns = data.columns\n",
    "    for col in columns:\n",
    "        data[col] = data[col].apply(str)\n",
    "        data[col] = data[col].str.lower()\n",
    "    return data    "
   ]
  },
  {
   "cell_type": "code",
   "execution_count": 61,
   "metadata": {},
   "outputs": [
    {
     "name": "stderr",
     "output_type": "stream",
     "text": [
      "<ipython-input-60-b0cb6929ce64>:4: SettingWithCopyWarning: \n",
      "A value is trying to be set on a copy of a slice from a DataFrame.\n",
      "Try using .loc[row_indexer,col_indexer] = value instead\n",
      "\n",
      "See the caveats in the documentation: https://pandas.pydata.org/pandas-docs/stable/user_guide/indexing.html#returning-a-view-versus-a-copy\n",
      "  data[col] = data[col].apply(str)\n",
      "<ipython-input-60-b0cb6929ce64>:5: SettingWithCopyWarning: \n",
      "A value is trying to be set on a copy of a slice from a DataFrame.\n",
      "Try using .loc[row_indexer,col_indexer] = value instead\n",
      "\n",
      "See the caveats in the documentation: https://pandas.pydata.org/pandas-docs/stable/user_guide/indexing.html#returning-a-view-versus-a-copy\n",
      "  data[col] = data[col].str.lower()\n"
     ]
    }
   ],
   "source": [
    "contractions = lower(contractions)\n",
    "df_tweets = lower(df_tweets)\n",
    "Val_data = lower(Val_data)\n"
   ]
  },
  {
   "cell_type": "code",
   "execution_count": 62,
   "metadata": {},
   "outputs": [],
   "source": [
    "def df_to_dict(data):\n",
    "    dictionary = dict()\n",
    "    col_names = data.columns\n",
    "    for _ in range(data.shape[0]):\n",
    "        dictionary[data[col_names[0]].iloc[_]] = data[col_names[1]].iloc[_]\n",
    "    return dictionary   \n",
    "        "
   ]
  },
  {
   "cell_type": "code",
   "execution_count": 63,
   "metadata": {},
   "outputs": [],
   "source": [
    "contractions_dict    = df_to_dict(contractions)"
   ]
  },
  {
   "cell_type": "code",
   "execution_count": 64,
   "metadata": {},
   "outputs": [],
   "source": [
    "# Defining regex patterns.\n",
    "urlPattern        = r\"((http://)[^ ]*|(https://)[^ ]*|(www\\.)[^ ]*)\"\n",
    "userPattern       = '@[^\\s]+'\n",
    "hashtagPattern    = '#[^\\s]+'\n",
    "alphaPattern      = \"[^a-z0-9<>]\"\n",
    "sequencePattern   = r\"(.)\\1\\1+\"\n",
    "seqReplacePattern = r\"\\1\\1\"\n",
    "\n",
    "# Defining regex for emojis\n",
    "smileemoji        = r\"[8:=;]['`\\-]?[)d]+\"\n",
    "sademoji          = r\"[8:=;]['`\\-]?\\(+\"\n",
    "neutralemoji      = r\"[8:=;]['`\\-]?[\\/|l*]\"\n",
    "lolemoji          = r\"[8:=;]['`\\-]?p+\""
   ]
  },
  {
   "cell_type": "code",
   "execution_count": 65,
   "metadata": {},
   "outputs": [],
   "source": [
    "def preprocess_data(tweet):\n",
    "\n",
    "    #tweet = lower(tweet)\n",
    "\n",
    "    # Replace all URls with '<url>'\n",
    "    tweet = re.sub(urlPattern,'<url>',tweet )\n",
    "    # Replace @USERNAME to '<user>'.\n",
    "    tweet = re.sub(userPattern,'<user>', tweet)\n",
    "    \n",
    "    # Replace 3 or more consecutive letters by 2 letter.\n",
    "    tweet = re.sub(sequencePattern, seqReplacePattern, tweet)\n",
    "\n",
    "    # Replace all emojis.\n",
    "    tweet = re.sub(r'<3', '<heart>', tweet)\n",
    "    tweet = re.sub(smileemoji, '<smile>', tweet)\n",
    "    tweet = re.sub(sademoji, '<sadface>', tweet)\n",
    "    tweet = re.sub(neutralemoji, '<neutralface>', tweet)\n",
    "    tweet = re.sub(lolemoji, '<lolface>', tweet)\n",
    "\n",
    "    for contraction, replacement in contractions_dict.items():\n",
    "        tweet = tweet.replace(contraction, replacement)\n",
    "\n",
    "    # Remove non-alphanumeric and symbols\n",
    "    tweet = re.sub(alphaPattern, ' ', tweet)\n",
    "\n",
    "    # Adding space on either side of '/' to seperate words (After replacing URLS).\n",
    "    tweet = re.sub(r'/', ' / ', tweet)\n",
    "    return tweet"
   ]
  },
  {
   "cell_type": "code",
   "execution_count": 66,
   "metadata": {},
   "outputs": [
    {
     "name": "stderr",
     "output_type": "stream",
     "text": [
      "<ipython-input-66-01506bbefeac>:1: SettingWithCopyWarning: \n",
      "A value is trying to be set on a copy of a slice from a DataFrame.\n",
      "Try using .loc[row_indexer,col_indexer] = value instead\n",
      "\n",
      "See the caveats in the documentation: https://pandas.pydata.org/pandas-docs/stable/user_guide/indexing.html#returning-a-view-versus-a-copy\n",
      "  df_tweets['processed_tweets'] = df_tweets['tweets'].apply(preprocess_data)\n",
      "<ipython-input-66-01506bbefeac>:2: SettingWithCopyWarning: \n",
      "A value is trying to be set on a copy of a slice from a DataFrame.\n",
      "Try using .loc[row_indexer,col_indexer] = value instead\n",
      "\n",
      "See the caveats in the documentation: https://pandas.pydata.org/pandas-docs/stable/user_guide/indexing.html#returning-a-view-versus-a-copy\n",
      "  Val_data_sentiment['processed_tweets'] = Val_data_sentiment['tweets'].apply(preprocess_data)\n"
     ]
    }
   ],
   "source": [
    "df_tweets['processed_tweets'] = df_tweets['tweets'].apply(preprocess_data)\n",
    "Val_data_sentiment['processed_tweets'] = Val_data_sentiment['tweets'].apply(preprocess_data)"
   ]
  },
  {
   "cell_type": "code",
   "execution_count": 67,
   "metadata": {},
   "outputs": [
    {
     "data": {
      "text/html": [
       "<div>\n",
       "<style scoped>\n",
       "    .dataframe tbody tr th:only-of-type {\n",
       "        vertical-align: middle;\n",
       "    }\n",
       "\n",
       "    .dataframe tbody tr th {\n",
       "        vertical-align: top;\n",
       "    }\n",
       "\n",
       "    .dataframe thead th {\n",
       "        text-align: right;\n",
       "    }\n",
       "</style>\n",
       "<table border=\"1\" class=\"dataframe\">\n",
       "  <thead>\n",
       "    <tr style=\"text-align: right;\">\n",
       "      <th></th>\n",
       "      <th>tweets</th>\n",
       "      <th>processed_tweets</th>\n",
       "    </tr>\n",
       "  </thead>\n",
       "  <tbody>\n",
       "    <tr>\n",
       "      <th>1232659</th>\n",
       "      <td>@chrisochs hope you find this to be fun! do yo...</td>\n",
       "      <td>&lt;user&gt; hope you find this to be fun  do you ne...</td>\n",
       "    </tr>\n",
       "    <tr>\n",
       "      <th>1280687</th>\n",
       "      <td>done running  time to hut the weights</td>\n",
       "      <td>done running  time to hut the weights</td>\n",
       "    </tr>\n",
       "    <tr>\n",
       "      <th>870256</th>\n",
       "      <td>watching the chart show whilst dad is jumpin o...</td>\n",
       "      <td>watching the chart show whilst dad is jumpin o...</td>\n",
       "    </tr>\n",
       "    <tr>\n",
       "      <th>8045</th>\n",
       "      <td>@paranoidartemus i work as a graphic designer ...</td>\n",
       "      <td>&lt;user&gt; i work as a graphic designer for a smal...</td>\n",
       "    </tr>\n",
       "    <tr>\n",
       "      <th>1280993</th>\n",
       "      <td>http://twitpic.com/6ge89 - my happy twitter th...</td>\n",
       "      <td>&lt;url&gt;   my happy twitter throw back moment tha...</td>\n",
       "    </tr>\n",
       "  </tbody>\n",
       "</table>\n",
       "</div>"
      ],
      "text/plain": [
       "                                                    tweets  \\\n",
       "1232659  @chrisochs hope you find this to be fun! do yo...   \n",
       "1280687              done running  time to hut the weights   \n",
       "870256   watching the chart show whilst dad is jumpin o...   \n",
       "8045     @paranoidartemus i work as a graphic designer ...   \n",
       "1280993  http://twitpic.com/6ge89 - my happy twitter th...   \n",
       "\n",
       "                                          processed_tweets  \n",
       "1232659  <user> hope you find this to be fun  do you ne...  \n",
       "1280687              done running  time to hut the weights  \n",
       "870256   watching the chart show whilst dad is jumpin o...  \n",
       "8045     <user> i work as a graphic designer for a smal...  \n",
       "1280993  <url>   my happy twitter throw back moment tha...  "
      ]
     },
     "execution_count": 67,
     "metadata": {},
     "output_type": "execute_result"
    }
   ],
   "source": [
    "df_tweets.head()"
   ]
  },
  {
   "cell_type": "code",
   "execution_count": 69,
   "metadata": {},
   "outputs": [],
   "source": [
    "XTrain = df_tweets['processed_tweets']\n",
    "YTrain = df_sentiment\n",
    "X_train, X_test, y_train, y_test = train_test_split(XTrain, YTrain,test_size = 0.2, random_state = 42)"
   ]
  },
  {
   "cell_type": "code",
   "execution_count": 70,
   "metadata": {},
   "outputs": [],
   "source": [
    "W2vec_train = list(map(lambda x: x.split(), X_train))"
   ]
  },
  {
   "cell_type": "code",
   "execution_count": 71,
   "metadata": {},
   "outputs": [
    {
     "name": "stdout",
     "output_type": "stream",
     "text": [
      "Vocabulary Length: 33927\n"
     ]
    }
   ],
   "source": [
    "embedding_dimensions = 100\n",
    "word2vec_model = Word2Vec(W2vec_train,\n",
    "                 size=embedding_dimensions,\n",
    "                 workers=8,\n",
    "                 min_count=5)\n",
    "print(\"Vocabulary Length:\", len(word2vec_model.wv.vocab))"
   ]
  },
  {
   "cell_type": "code",
   "execution_count": 73,
   "metadata": {},
   "outputs": [
    {
     "name": "stderr",
     "output_type": "stream",
     "text": [
      "<ipython-input-73-4dbf9e918252>:1: DeprecationWarning: Call to deprecated `most_similar` (Method will be removed in 4.0.0, use self.wv.most_similar() instead).\n",
      "  word2vec_model.most_similar(\"bad\")\n"
     ]
    },
    {
     "data": {
      "text/plain": [
       "[('horrible', 0.7037376165390015),\n",
       " ('baad', 0.6696481108665466),\n",
       " ('shitty', 0.6587868332862854),\n",
       " ('terrible', 0.6543588638305664),\n",
       " ('good', 0.6338827610015869),\n",
       " ('crappy', 0.6260131597518921),\n",
       " ('badd', 0.5632617473602295),\n",
       " ('weak', 0.5632414221763611),\n",
       " ('awful', 0.550317645072937),\n",
       " ('sad', 0.5468815565109253)]"
      ]
     },
     "execution_count": 73,
     "metadata": {},
     "output_type": "execute_result"
    }
   ],
   "source": [
    "word2vec_model.most_similar(\"bad\")"
   ]
  },
  {
   "cell_type": "code",
   "execution_count": 72,
   "metadata": {},
   "outputs": [
    {
     "name": "stderr",
     "output_type": "stream",
     "text": [
      "<ipython-input-72-344f146771d5>:1: DeprecationWarning: Call to deprecated `most_similar` (Method will be removed in 4.0.0, use self.wv.most_similar() instead).\n",
      "  word2vec_model.most_similar(\"good\")\n"
     ]
    },
    {
     "data": {
      "text/plain": [
       "[('great', 0.7569676041603088),\n",
       " ('rough', 0.695873498916626),\n",
       " ('tough', 0.6812916994094849),\n",
       " ('nice', 0.666936993598938),\n",
       " ('fab', 0.6364641189575195),\n",
       " ('bad', 0.6338827610015869),\n",
       " ('fantastic', 0.6302617192268372),\n",
       " ('gud', 0.6173033714294434),\n",
       " ('terrible', 0.6053646802902222),\n",
       " ('horrible', 0.5889730453491211)]"
      ]
     },
     "execution_count": 72,
     "metadata": {},
     "output_type": "execute_result"
    }
   ],
   "source": [
    "word2vec_model.most_similar(\"good\")"
   ]
  },
  {
   "cell_type": "code",
   "execution_count": 88,
   "metadata": {},
   "outputs": [],
   "source": [
    "def prepare_texts(train,test,val , oov, num_words , max_lenght ,padding_type , trunc_type):\n",
    "    \n",
    "    tokenizer = Tokenizer(num_words= num_words , oov_token= oov )\n",
    "    tokenizer.fit_on_texts(train)\n",
    "    word_index = tokenizer.word_index\n",
    "    \n",
    "   \n",
    "    training_sequences = tokenizer.texts_to_sequences(train)\n",
    "    testing_sequences = tokenizer.texts_to_sequences(test)\n",
    "    validation_sequences = tokenizer.texts_to_sequences(val)\n",
    "    # pad sequences \n",
    "    training_padded = pad_sequences(training_sequences , maxlen= max_length , padding=padding_type, truncating=trunc_type)\n",
    "    testing_padded = pad_sequences(testing_sequences , maxlen=max_length, padding=padding_type, truncating=trunc_type)\n",
    "    validation_padded = pad_sequences(validation_sequences , maxlen=max_length, padding=padding_type, truncating=trunc_type)\n",
    "    \n",
    "    return training_padded , testing_padded , validation_padded, word_index"
   ]
  },
  {
   "cell_type": "code",
   "execution_count": 89,
   "metadata": {},
   "outputs": [],
   "source": [
    "oov_tok = \"<oov>\"\n",
    "num_words = len(word2vec_model.wv.vocab)\n",
    "max_length = max([ len(x) for x in df_tweets['processed_tweets'].tolist()])\n",
    "trunc_type='post'\n",
    "padding_type='post'\n",
    "embedding_dim = 100\n"
   ]
  },
  {
   "cell_type": "code",
   "execution_count": 90,
   "metadata": {},
   "outputs": [],
   "source": [
    "training_padded,testing_padded , validation_padded ,word_index = prepare_texts(X_train , X_test , \n",
    "                                                           Val_data_sentiment['tweets'], oov_tok,num_words ,\n",
    "                                                           max_length , padding_type,\n",
    "                                                           trunc_type)"
   ]
  },
  {
   "cell_type": "markdown",
   "metadata": {},
   "source": [
    "# Global Vectors for Word Representation"
   ]
  },
  {
   "cell_type": "code",
   "execution_count": 77,
   "metadata": {},
   "outputs": [],
   "source": [
    "vocab_size  =  len(word_index)\n",
    "embeddings_index = {}\n",
    "with open('/home/ege/Desktop/kaggle/NLP/archive/glove.twitter.27B.100d.txt') as f:\n",
    "    for line in f:\n",
    "        values = line.split()\n",
    "        word = values[0]\n",
    "        coefs = np.asarray(values[1:], dtype='float32')\n",
    "        embeddings_index[word] = coefs;\n",
    "\n",
    "embeddings_matrix = np.zeros((vocab_size+1, embedding_dim))\n",
    "for word, i in word_index.items():\n",
    "    embedding_vector = embeddings_index.get(word)\n",
    "    if embedding_vector is not None:\n",
    "        embeddings_matrix[i] = embedding_vector"
   ]
  },
  {
   "cell_type": "markdown",
   "metadata": {},
   "source": [
    "# ML Model "
   ]
  },
  {
   "cell_type": "code",
   "execution_count": 78,
   "metadata": {},
   "outputs": [
    {
     "name": "stdout",
     "output_type": "stream",
     "text": [
      "Num GPUs Available:  1\n"
     ]
    }
   ],
   "source": [
    "\n",
    "print(\"Num GPUs Available: \", len(tf.config.experimental.list_physical_devices('GPU')))"
   ]
  },
  {
   "cell_type": "code",
   "execution_count": 79,
   "metadata": {},
   "outputs": [
    {
     "name": "stdout",
     "output_type": "stream",
     "text": [
      "Model: \"sequential\"\n",
      "_________________________________________________________________\n",
      "Layer (type)                 Output Shape              Param #   \n",
      "=================================================================\n",
      "embedding (Embedding)        (None, 368, 100)          16789000  \n",
      "_________________________________________________________________\n",
      "dropout (Dropout)            (None, 368, 100)          0         \n",
      "_________________________________________________________________\n",
      "conv1d (Conv1D)              (None, 364, 64)           32064     \n",
      "_________________________________________________________________\n",
      "max_pooling1d (MaxPooling1D) (None, 91, 64)            0         \n",
      "_________________________________________________________________\n",
      "bidirectional (Bidirectional (None, 256)               197632    \n",
      "_________________________________________________________________\n",
      "dense (Dense)                (None, 128)               32896     \n",
      "_________________________________________________________________\n",
      "dense_1 (Dense)              (None, 64)                8256      \n",
      "_________________________________________________________________\n",
      "dense_2 (Dense)              (None, 32)                2080      \n",
      "_________________________________________________________________\n",
      "dense_3 (Dense)              (None, 1)                 33        \n",
      "=================================================================\n",
      "Total params: 17,061,961\n",
      "Trainable params: 272,961\n",
      "Non-trainable params: 16,789,000\n",
      "_________________________________________________________________\n",
      "Epoch 1/10\n",
      "22500/22500 [==============================] - 218s 10ms/step - loss: 0.4582 - accuracy: 0.7821 - val_loss: 0.4224 - val_accuracy: 0.8025\n",
      "Epoch 2/10\n",
      "22500/22500 [==============================] - 212s 9ms/step - loss: 0.4290 - accuracy: 0.8002 - val_loss: 0.4106 - val_accuracy: 0.8107\n",
      "Epoch 3/10\n",
      "22500/22500 [==============================] - 213s 9ms/step - loss: 0.4198 - accuracy: 0.8050 - val_loss: 0.4034 - val_accuracy: 0.8152\n",
      "Epoch 4/10\n",
      "22500/22500 [==============================] - 212s 9ms/step - loss: 0.4141 - accuracy: 0.8083 - val_loss: 0.4034 - val_accuracy: 0.8150\n",
      "Epoch 5/10\n",
      "22500/22500 [==============================] - 211s 9ms/step - loss: 0.4107 - accuracy: 0.8107 - val_loss: 0.4021 - val_accuracy: 0.8163\n",
      "Epoch 6/10\n",
      "22500/22500 [==============================] - 211s 9ms/step - loss: 0.4081 - accuracy: 0.8119 - val_loss: 0.4007 - val_accuracy: 0.8168\n",
      "Epoch 7/10\n",
      "22500/22500 [==============================] - 212s 9ms/step - loss: 0.4064 - accuracy: 0.8127 - val_loss: 0.4045 - val_accuracy: 0.8161\n",
      "Epoch 8/10\n",
      "22500/22500 [==============================] - 216s 10ms/step - loss: 0.4048 - accuracy: 0.8142 - val_loss: 0.3995 - val_accuracy: 0.8179\n",
      "Epoch 9/10\n",
      "22500/22500 [==============================] - 215s 10ms/step - loss: 0.4035 - accuracy: 0.8147 - val_loss: 0.4025 - val_accuracy: 0.8167\n",
      "Epoch 10/10\n",
      "22500/22500 [==============================] - 216s 10ms/step - loss: 0.4031 - accuracy: 0.8152 - val_loss: 0.3975 - val_accuracy: 0.8183\n",
      "Training Complete\n"
     ]
    }
   ],
   "source": [
    "with tf.device('/GPU:0'): \n",
    "    model = tf.keras.Sequential([\n",
    "        tf.keras.layers.Embedding(vocab_size+1, embedding_dim, input_length=max_length,  weights=[embeddings_matrix], trainable=False),    \n",
    "        tf.keras.layers.Dropout(0.2),\n",
    "        tf.keras.layers.Conv1D(64, 5, activation='relu'),\n",
    "        tf.keras.layers.MaxPooling1D(pool_size=4),\n",
    "        tf.keras.layers.Bidirectional(tf.keras.layers.LSTM(128)),\n",
    "        tf.keras.layers.Dense(128, activation='relu'),\n",
    "        tf.keras.layers.Dense(64, activation='relu'),\n",
    "        tf.keras.layers.Dense(32, activation='relu'),\n",
    "        tf.keras.layers.Dense(1, activation='sigmoid')\n",
    "    ])\n",
    "model.compile(loss='binary_crossentropy',optimizer='adam',metrics=['accuracy'])\n",
    "model.summary()\n",
    "history = model.fit(training_padded,  y_train, epochs=10, validation_data=(testing_padded, y_test), verbose=1)\n",
    "\n",
    "print(\"Training Complete\")    \n"
   ]
  },
  {
   "cell_type": "markdown",
   "metadata": {},
   "source": [
    "# Graphs"
   ]
  },
  {
   "cell_type": "code",
   "execution_count": 80,
   "metadata": {},
   "outputs": [
    {
     "data": {
      "image/png": "[encoded data removed]",
      "text/plain": [
       "<Figure size 432x288 with 1 Axes>"
      ]
     },
     "metadata": {
      "needs_background": "light"
     },
     "output_type": "display_data"
    },
    {
     "data": {
      "image/png": "[encoded data removed]",
      "text/plain": [
       "<Figure size 432x288 with 1 Axes>"
      ]
     },
     "metadata": {
      "needs_background": "light"
     },
     "output_type": "display_data"
    }
   ],
   "source": [
    "def plot_graphs(history, string):\n",
    "  plt.plot(history.history[string])\n",
    "  plt.plot(history.history['val_'+string])\n",
    "  plt.xlabel(\"Epochs\")\n",
    "  plt.ylabel(string)\n",
    "  plt.legend([string, 'val_'+string])\n",
    "  plt.show()\n",
    "\n",
    "plot_graphs(history, 'accuracy')\n",
    "plot_graphs(history, 'loss')"
   ]
  },
  {
   "cell_type": "code",
   "execution_count": 81,
   "metadata": {},
   "outputs": [
    {
     "name": "stdout",
     "output_type": "stream",
     "text": [
      "WARNING:tensorflow:From /home/ege/.local/lib/python3.8/site-packages/tensorflow/python/training/tracking/tracking.py:111: Model.state_updates (from tensorflow.python.keras.engine.training) is deprecated and will be removed in a future version.\n",
      "Instructions for updating:\n",
      "This property should not be used in TensorFlow 2.0, as updates are applied automatically.\n",
      "WARNING:tensorflow:From /home/ege/.local/lib/python3.8/site-packages/tensorflow/python/training/tracking/tracking.py:111: Layer.updates (from tensorflow.python.keras.engine.base_layer) is deprecated and will be removed in a future version.\n",
      "Instructions for updating:\n",
      "This property should not be used in TensorFlow 2.0, as updates are applied automatically.\n",
      "INFO:tensorflow:Assets written to: saved_model/my_model/assets\n"
     ]
    }
   ],
   "source": [
    "!mkdir -p saved_model\n",
    "model.save('saved_model/my_model')"
   ]
  },
  {
   "cell_type": "markdown",
   "metadata": {},
   "source": [
    "# Predictions of validation dataset"
   ]
  },
  {
   "cell_type": "code",
   "execution_count": 91,
   "metadata": {},
   "outputs": [],
   "source": [
    "predictions = model.predict(validation_padded)"
   ]
  },
  {
   "cell_type": "code",
   "execution_count": 94,
   "metadata": {},
   "outputs": [],
   "source": [
    "predictions_list = []\n",
    "for pred in predictions:\n",
    "    if pred > 0.5:\n",
    "        predictions_list.append(1)\n",
    "    else:\n",
    "        predictions_list.append(0)\n",
    "        \n",
    "        "
   ]
  },
  {
   "cell_type": "code",
   "execution_count": 106,
   "metadata": {},
   "outputs": [],
   "source": [
    "from sklearn.metrics import confusion_matrix\n",
    "import seaborn as sns"
   ]
  },
  {
   "cell_type": "code",
   "execution_count": 99,
   "metadata": {},
   "outputs": [],
   "source": [
    "cm = confusion_matrix(predictions_list,Val_data_labels )"
   ]
  },
  {
   "cell_type": "code",
   "execution_count": 107,
   "metadata": {},
   "outputs": [
    {
     "data": {
      "text/plain": [
       "<matplotlib.axes._subplots.AxesSubplot at 0x7f8b3192e2b0>"
      ]
     },
     "execution_count": 107,
     "metadata": {},
     "output_type": "execute_result"
    },
    {
     "data": {
      "image/png": "[encoded data removed]",
      "text/plain": [
       "<Figure size 432x288 with 2 Axes>"
      ]
     },
     "metadata": {
      "needs_background": "light"
     },
     "output_type": "display_data"
    }
   ],
   "source": [
    "ax= plt.subplot()\n",
    "sns.heatmap(cm, annot=True, ax = ax)"
   ]
  },
  {
   "cell_type": "code",
   "execution_count": 108,
   "metadata": {},
   "outputs": [],
   "source": [
    "import json"
   ]
  },
  {
   "cell_type": "code",
   "execution_count": 110,
   "metadata": {},
   "outputs": [],
   "source": [
    "with open('/home/ege/Desktop/kaggle/NLP/word_index.json', 'w') as fp:\n",
    "    json.dump(word_index, fp)\n"
   ]
  },
  {
   "cell_type": "code",
   "execution_count": null,
   "metadata": {},
   "outputs": [],
   "source": []
  }
 ],
 "metadata": {
  "kernelspec": {
   "display_name": "Python 3",
   "language": "python",
   "name": "python3"
  },
  "language_info": {
   "codemirror_mode": {
    "name": "ipython",
    "version": 3
   },
   "file_extension": ".py",
   "mimetype": "text/x-python",
   "name": "python",
   "nbconvert_exporter": "python",
   "pygments_lexer": "ipython3",
   "version": "3.8.3"
  }
 },
 "nbformat": 4,
 "nbformat_minor": 4
}
