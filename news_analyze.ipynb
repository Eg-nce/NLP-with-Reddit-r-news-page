{
 "cells": [
  {
   "cell_type": "markdown",
   "metadata": {},
   "source": [
    "# Importing libraries"
   ]
  },
  {
   "cell_type": "code",
   "execution_count": 125,
   "metadata": {},
   "outputs": [],
   "source": [
    "import pandas as pd\n",
    "import random\n",
    "import numpy as np\n",
    "from tensorflow.keras.preprocessing.text import Tokenizer\n",
    "from tensorflow.keras.preprocessing.sequence import pad_sequences\n",
    "from tensorflow.keras.utils import to_categorical\n",
    "from tensorflow.keras import regularizers\n",
    "import matplotlib.pyplot as plt\n",
    "from itertools import combinations \n",
    "from sklearn.preprocessing import LabelEncoder\n",
    "from sklearn.preprocessing import OneHotEncoder\n",
    "import re\n",
    "from sklearn.model_selection import train_test_split\n",
    "from gensim.models import Word2Vec\n",
    "import tensorflow as tf\n",
    "import csv\n",
    "from keras.layers import Dense, Dropout, LSTM, Bidirectional\n",
    "import matplotlib.pyplot as plt\n",
    "import json\n",
    "from operator import itemgetter \n"
   ]
  },
  {
   "cell_type": "markdown",
   "metadata": {},
   "source": [
    "# Data loading and cleaning "
   ]
  },
  {
   "cell_type": "code",
   "execution_count": 126,
   "metadata": {},
   "outputs": [],
   "source": [
    "Reddit_df = pd.read_csv(\"/home/ege/selenium/r_news.csv\"  )\n",
    "contractions = pd.read_csv(\"/home/ege/Desktop/kaggle/NLP/archive/contractions.csv\")\n",
    "Reddit_df.dropna( inplace = True)\n",
    "Reddit_df = Reddit_df[['r/news']]\n",
    "Reddit_df.drop_duplicates(inplace = True)"
   ]
  },
  {
   "cell_type": "code",
   "execution_count": 127,
   "metadata": {},
   "outputs": [
    {
     "data": {
      "text/html": [
       "<div>\n",
       "<style scoped>\n",
       "    .dataframe tbody tr th:only-of-type {\n",
       "        vertical-align: middle;\n",
       "    }\n",
       "\n",
       "    .dataframe tbody tr th {\n",
       "        vertical-align: top;\n",
       "    }\n",
       "\n",
       "    .dataframe thead th {\n",
       "        text-align: right;\n",
       "    }\n",
       "</style>\n",
       "<table border=\"1\" class=\"dataframe\">\n",
       "  <thead>\n",
       "    <tr style=\"text-align: right;\">\n",
       "      <th></th>\n",
       "      <th>r/news</th>\n",
       "    </tr>\n",
       "  </thead>\n",
       "  <tbody>\n",
       "    <tr>\n",
       "      <th>0</th>\n",
       "      <td>Ticketmaster pleads guilty to illegally gainin...</td>\n",
       "    </tr>\n",
       "    <tr>\n",
       "      <th>1</th>\n",
       "      <td>Have a fun &amp; relaxed farming experience with y...</td>\n",
       "    </tr>\n",
       "    <tr>\n",
       "      <th>38</th>\n",
       "      <td>Black man wrongfully detained by maskless poli...</td>\n",
       "    </tr>\n",
       "    <tr>\n",
       "      <th>39</th>\n",
       "      <td>Dawn Wells, Mary Ann on 'Gilligan's Island,' d...</td>\n",
       "    </tr>\n",
       "    <tr>\n",
       "      <th>40</th>\n",
       "      <td>Japan gave key intel on China's Uighur crackdo...</td>\n",
       "    </tr>\n",
       "  </tbody>\n",
       "</table>\n",
       "</div>"
      ],
      "text/plain": [
       "                                               r/news\n",
       "0   Ticketmaster pleads guilty to illegally gainin...\n",
       "1   Have a fun & relaxed farming experience with y...\n",
       "38  Black man wrongfully detained by maskless poli...\n",
       "39  Dawn Wells, Mary Ann on 'Gilligan's Island,' d...\n",
       "40  Japan gave key intel on China's Uighur crackdo..."
      ]
     },
     "execution_count": 127,
     "metadata": {},
     "output_type": "execute_result"
    }
   ],
   "source": [
    "Reddit_df.head()"
   ]
  },
  {
   "cell_type": "code",
   "execution_count": 128,
   "metadata": {},
   "outputs": [],
   "source": [
    "with open('/home/ege/Desktop/kaggle/NLP/word_index.json', 'r') as fp:\n",
    "    tokens = json.load(fp)\n"
   ]
  },
  {
   "cell_type": "markdown",
   "metadata": {},
   "source": [
    "# Defining preprocessing functions"
   ]
  },
  {
   "cell_type": "code",
   "execution_count": 129,
   "metadata": {},
   "outputs": [],
   "source": [
    "def df_to_dict(data):\n",
    "    dictionary = dict()\n",
    "    col_names = data.columns\n",
    "    for _ in range(data.shape[0]):\n",
    "        dictionary[data[col_names[0]].iloc[_]] = data[col_names[1]].iloc[_]\n",
    "    return dictionary  "
   ]
  },
  {
   "cell_type": "code",
   "execution_count": 130,
   "metadata": {},
   "outputs": [],
   "source": [
    "def lower(data):\n",
    "    columns = data.columns\n",
    "    for col in columns:\n",
    "        data[col] = data[col].apply(str)\n",
    "        data[col] = data[col].str.lower()\n",
    "    return data "
   ]
  },
  {
   "cell_type": "code",
   "execution_count": 131,
   "metadata": {},
   "outputs": [],
   "source": [
    "# Defining regex patterns.\n",
    "urlPattern        = r\"((http://)[^ ]*|(https://)[^ ]*|(www\\.)[^ ]*)\"\n",
    "userPattern       = '@[^\\s]+'\n",
    "hashtagPattern    = '#[^\\s]+'\n",
    "alphaPattern      = \"[^a-z0-9<>]\"\n",
    "sequencePattern   = r\"(.)\\1\\1+\"\n",
    "seqReplacePattern = r\"\\1\\1\"\n",
    "\n",
    "# Defining regex for emojis\n",
    "smileemoji        = r\"[8:=;]['`\\-]?[)d]+\"\n",
    "sademoji          = r\"[8:=;]['`\\-]?\\(+\"\n",
    "neutralemoji      = r\"[8:=;]['`\\-]?[\\/|l*]\"\n",
    "lolemoji          = r\"[8:=;]['`\\-]?p+\"\n",
    "\n",
    "def preprocess_data(news):\n",
    "\n",
    "    # Replace all URls with '<url>'\n",
    "    news = re.sub(urlPattern,'<url>',news )\n",
    "    # Replace @USERNAME to '<user>'.\n",
    "    news = re.sub(userPattern,'<user>', news)\n",
    "    \n",
    "    # Replace 3 or more consecutive letters by 2 letter.\n",
    "    news = re.sub(sequencePattern, seqReplacePattern, news)\n",
    "\n",
    "    # Replace all emojis.\n",
    "    news = re.sub(r'<3', '<heart>', news)\n",
    "    news = re.sub(smileemoji, '<smile>', news)\n",
    "    news = re.sub(sademoji, '<sadface>', news)\n",
    "    news = re.sub(neutralemoji, '<neutralface>', news)\n",
    "    news = re.sub(lolemoji, '<lolface>', news)\n",
    "\n",
    "    for contraction, replacement in contractions_dict.items():\n",
    "        news = news.replace(contraction, replacement)\n",
    "\n",
    "    # Remove non-alphanumeric and symbols\n",
    "    news = re.sub(alphaPattern, ' ', news)\n",
    "\n",
    "    # Adding space on either side of '/' to seperate words (After replacing URLS).\n",
    "    news = re.sub(r'/', ' / ', news)\n",
    "    return news"
   ]
  },
  {
   "cell_type": "code",
   "execution_count": 132,
   "metadata": {},
   "outputs": [],
   "source": [
    "def split_func(df):\n",
    "    data = df.values.tolist()\n",
    "    clean_list =[]\n",
    "    for sentences in data:\n",
    "        clean_list.append(sentences[0].split())\n",
    "    return  clean_list   "
   ]
  },
  {
   "cell_type": "code",
   "execution_count": 133,
   "metadata": {},
   "outputs": [],
   "source": [
    "def tokenizer_based_on_json(data, tokens):\n",
    "    sentences = 0\n",
    "    word = 0\n",
    "    while True:\n",
    "        try:\n",
    "            data[sentences][word] = tokens[split_list[sentences][word]]\n",
    "            word += 1\n",
    "            if word  == len(data[sentences]):\n",
    "                sentences += 1\n",
    "                word = 0\n",
    "            if      sentences == len(data):\n",
    "                break\n",
    "        except:\n",
    "             data[sentences][word] = \"<oov>\"\n",
    "    return data"
   ]
  },
  {
   "cell_type": "markdown",
   "metadata": {},
   "source": [
    "# Data preprocessing"
   ]
  },
  {
   "cell_type": "code",
   "execution_count": 134,
   "metadata": {},
   "outputs": [],
   "source": [
    "Reddit_df = lower(Reddit_df)\n",
    "contractions_dict    = df_to_dict(contractions)"
   ]
  },
  {
   "cell_type": "code",
   "execution_count": 135,
   "metadata": {},
   "outputs": [],
   "source": [
    "Reddit_df['r/news'] = Reddit_df['r/news'].apply(preprocess_data)"
   ]
  },
  {
   "cell_type": "code",
   "execution_count": 136,
   "metadata": {},
   "outputs": [],
   "source": [
    "split_list = split_func(Reddit_df)"
   ]
  },
  {
   "cell_type": "code",
   "execution_count": 137,
   "metadata": {},
   "outputs": [],
   "source": [
    "tokenized_list = tokenizer_based_on_json(split_list , tokens)"
   ]
  },
  {
   "cell_type": "code",
   "execution_count": 138,
   "metadata": {},
   "outputs": [],
   "source": [
    "news_padded = pad_sequences(tokenized_list , maxlen= max([len(x) for x in tokenized_list]) , \n",
    "                            padding= 'post', truncating= 'post')"
   ]
  },
  {
   "cell_type": "markdown",
   "metadata": {},
   "source": [
    "# Importing saved tensorflow model"
   ]
  },
  {
   "cell_type": "code",
   "execution_count": 139,
   "metadata": {},
   "outputs": [],
   "source": [
    "model = tf.keras.models.load_model(\"/home/ege/saved_model/my_model\")"
   ]
  },
  {
   "cell_type": "markdown",
   "metadata": {},
   "source": [
    "# Predictions"
   ]
  },
  {
   "cell_type": "code",
   "execution_count": 140,
   "metadata": {},
   "outputs": [
    {
     "name": "stdout",
     "output_type": "stream",
     "text": [
      "WARNING:tensorflow:Model was constructed with shape (None, 368) for input Tensor(\"embedding_input_4:0\", shape=(None, 368), dtype=float32), but it was called on an input with incompatible shape (None, 28).\n"
     ]
    }
   ],
   "source": [
    "predictions = model.predict(news_padded)"
   ]
  },
  {
   "cell_type": "code",
   "execution_count": 158,
   "metadata": {},
   "outputs": [],
   "source": [
    "predictions_list = []\n",
    "for pred in predictions:\n",
    "    if pred > 0.7:\n",
    "        predictions_list.append(1)\n",
    "    else:\n",
    "        predictions_list.append(0)\n",
    "        "
   ]
  },
  {
   "cell_type": "markdown",
   "metadata": {},
   "source": [
    "# Exploring predictions"
   ]
  },
  {
   "cell_type": "code",
   "execution_count": 159,
   "metadata": {},
   "outputs": [
    {
     "name": "stdout",
     "output_type": "stream",
     "text": [
      "negative news :  230 positive news  28\n"
     ]
    }
   ],
   "source": [
    "print(\"negative news : \" , predictions_list.count(0) , \"positive news \" , predictions_list.count(1))"
   ]
  },
  {
   "cell_type": "code",
   "execution_count": 166,
   "metadata": {},
   "outputs": [
    {
     "name": "stderr",
     "output_type": "stream",
     "text": [
      "<ipython-input-166-e1562d8ba15d>:5: MatplotlibDeprecationWarning: Using a string of single character colors as a color sequence is deprecated. Use an explicit list instead.\n",
      "  ax.bar(labels,numbers ,color = 'rg')\n"
     ]
    },
    {
     "data": {
      "image/png": "[encoded data removed]",
      "text/plain": [
       "<Figure size 432x288 with 1 Axes>"
      ]
     },
     "metadata": {
      "needs_background": "light"
     },
     "output_type": "display_data"
    }
   ],
   "source": [
    "fig = plt.figure()\n",
    "ax = fig.add_axes([0,0,1,1])\n",
    "labels = ['negative news', 'positive news']\n",
    "numbers = [ predictions_list.count(0) , predictions_list.count(1)]\n",
    "ax.bar(labels,numbers ,color = 'rg')\n",
    "plt.show()"
   ]
  },
  {
   "cell_type": "code",
   "execution_count": 161,
   "metadata": {},
   "outputs": [],
   "source": [
    "Poz_index = [i for i, x in enumerate(predictions_list) if x == 1]\n",
    "Neg_index = [i for i, x in enumerate(predictions_list) if x == 0]"
   ]
  },
  {
   "cell_type": "code",
   "execution_count": 162,
   "metadata": {},
   "outputs": [],
   "source": [
    "positive_news = []\n",
    "negative_news = []\n",
    "for poz in Poz_index:\n",
    "    positive_news.append(Reddit_df['r/news'].iloc[poz])\n",
    "for neg in Neg_index:\n",
    "    negative_news.append(Reddit_df['r/news'].iloc[neg])    "
   ]
  },
  {
   "cell_type": "code",
   "execution_count": 163,
   "metadata": {},
   "outputs": [
    {
     "name": "stdout",
     "output_type": "stream",
     "text": [
      "-- Some negative news labeled by model --  \n",
      "\n",
      "\n",
      "1 ontario confirms canada s 1st known cases of uk coronavirus variant .\n",
      "2  highly suspicious  fire at black church in massachusetts being investigated as arson .\n",
      "3 some overflowing la hospitals resort to putting patients in gift shops  conference rooms .\n",
      "4 city of edmonton sues former employees accused of stealing  1 6m in false invoicing scheme .\n",
      "5 russia gives kremlin critic navalny an ultimatum  return immediately or face jail .\n",
      "6 shelly beach rescue  fisherman saves kayaker  helicopter sent to scene .\n",
      "7 seafarer exemption from new covid restrictions recommended by european commission .\n"
     ]
    }
   ],
   "source": [
    "number_of_sentences = 7\n",
    "print(\"-- Some negative news labeled by model -- \" , \"\\n\\n\")\n",
    "for sen in range(number_of_sentences):\n",
    "     print(sen+1 , negative_news[random.randrange(0,len(negative_news))],\".\")\n",
    "    "
   ]
  },
  {
   "cell_type": "code",
   "execution_count": 168,
   "metadata": {},
   "outputs": [
    {
     "name": "stdout",
     "output_type": "stream",
     "text": [
      "-- Some positive news labeled by model --  \n",
      "\n",
      "\n",
      "1 l a  coronavirus update  county surpasses 7 00 covid 19 hospitalizations for first time .\n",
      "2 beverly hills eatery reportedly planning indoor  speakeasy  nye party draws police interest .\n",
      "3 azerbaijani energy ministry  acwa power company sign agreement on wind farm project .\n",
      "4 amazon to acquire wondery in podcast push .\n",
      "5 brazil vice president tests positive for coronavirus .\n",
      "6 pentagon sends 7 00 gallons of eggnog and 21 00 pounds of ham to u s  troops around the world .\n",
      "7 archaeologists uncover ancient street food shop in pompeii .\n"
     ]
    }
   ],
   "source": [
    "number_of_sentences = 7\n",
    "print(\"-- Some positive news labeled by model -- \", \"\\n\\n\")\n",
    "for sen in range(number_of_sentences):\n",
    "     print( sen+1 , positive_news[random.randrange(0,len(positive_news))],\".\")\n",
    "    "
   ]
  },
  {
   "cell_type": "code",
   "execution_count": null,
   "metadata": {},
   "outputs": [],
   "source": []
  }
 ],
 "metadata": {
  "kernelspec": {
   "display_name": "Python 3",
   "language": "python",
   "name": "python3"
  },
  "language_info": {
   "codemirror_mode": {
    "name": "ipython",
    "version": 3
   },
   "file_extension": ".py",
   "mimetype": "text/x-python",
   "name": "python",
   "nbconvert_exporter": "python",
   "pygments_lexer": "ipython3",
   "version": "3.8.3"
  }
 },
 "nbformat": 4,
 "nbformat_minor": 4
}
